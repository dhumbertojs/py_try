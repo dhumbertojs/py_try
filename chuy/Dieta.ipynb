{
 "cells": [
  {
   "cell_type": "code",
   "execution_count": 1,
   "metadata": {},
   "outputs": [],
   "source": [
    "import pulp \n",
    "import pandas as pd\n",
    "from pandas import ExcelWriter\n",
    "from pandas import ExcelFile\n",
    "from pulp import *\n"
   ]
  },
  {
   "cell_type": "code",
   "execution_count": 5,
   "metadata": {},
   "outputs": [],
   "source": [
    "\n",
    "prob = LpProblem ('Simple_Diet_Problem', LpMinimize)\n",
    "# Read the first few rows dataset in a Pandas DataFrame\n",
    "# Read only the nutrition info not the bounds/constraints\n",
    "\n",
    "df= pd.read_excel('C:/Users/dhjs/Documents/projects/py_try/chuy/diet - medium.xls',nrows=17)\n",
    "# Create a list of the food items\n",
    "list= (df['Foods'])\n",
    "food_items = list\n"
   ]
  },
  {
   "cell_type": "code",
   "execution_count": 10,
   "metadata": {},
   "outputs": [
    {
     "data": {
      "text/plain": [
       "0            Frozen Broccoli\n",
       "1                Frozen Corn\n",
       "2        Raw Lettuce Iceberg\n",
       "3             Baked Potatoes\n",
       "4                       Tofu\n",
       "5            Roasted Chicken\n",
       "6         Spaghetti W/ Sauce\n",
       "7                  Raw Apple\n",
       "8                     Banana\n",
       "9                Wheat Bread\n",
       "10               White Bread\n",
       "11           Oatmeal Cookies\n",
       "12                 Apple Pie\n",
       "13            Scrambled Eggs\n",
       "14            Turkey Bologna\n",
       "15          Beef Frankfurter\n",
       "16    Chocolate Chip Cookies\n",
       "Name: Foods, dtype: object"
      ]
     },
     "execution_count": 10,
     "metadata": {},
     "output_type": "execute_result"
    }
   ],
   "source": [
    "food_items"
   ]
  },
  {
   "cell_type": "code",
   "execution_count": 6,
   "metadata": {},
   "outputs": [],
   "source": [
    "\n",
    "# Create a dictionary of costs for all food items\n",
    "costs = dict(zip(food_items,df['Price/Serving']))\n",
    "\n",
    "# Create a dictionary of calories for all food items\n",
    "calories = dict(zip(food_items,df['Calories']))\n",
    "\n",
    "# Create a dictionary of total fat for all food items\n",
    "fat = dict(zip(food_items,df['Total_Fat (g)']))\n",
    "\n",
    "# Create a dictionary of carbohydrates for all food items\n",
    "carbs = dict(zip(food_items,df['Carbohydrates (g)']))\n",
    "\n",
    "# Create a dictionary of Cholesterol for all food items  \n",
    "Cholesterol = dict(zip(food_items, df['Cholesterol (mg)']))\n",
    "\n",
    "#Create a dictionary of Sodium for all food items\n",
    "Sodium = dict(zip(food_items, df['Sodium (mg)']))\n",
    "\n",
    "#Create a dictionary of Dietary fiber for all food items\n",
    "Fiber = dict(zip(food_items, df[\"Dietary_Fiber (g)\"]))\n",
    "\n",
    "#Create a dictionary of Protein for all food items\n",
    "Protein = dict(zip(food_items, df['Protein (g)']))\n",
    "\n",
    "#Create a dictionaty of Vit_A for all food items\n",
    "Vit_A = dict(zip(food_items, df['Vit_A (IU)']))\n",
    "\n",
    "#Create a dictionary of Vit_C for all food items \n",
    "Vit_C = dict(zip(food_items, df['Vit_C (IU)']))\n",
    "\n",
    "#Create a dictionary of Calcium  for all food items\n",
    "Calcium = dict(zip(food_items, df['Calcium (mg)']))\n",
    "\n",
    "#Create a dictionary of Iron for all food items\n",
    "Iron = dict(zip(food_items, df['Iron (mg)']))"
   ]
  },
  {
   "cell_type": "code",
   "execution_count": 7,
   "metadata": {},
   "outputs": [],
   "source": [
    " #Non negativity restriction\n",
    "food_vars = LpVariable.dicts(\"Foods\",food_items, lowBound=0, cat='Continuous')\n",
    "\n",
    "#Building de LP problem\n",
    "prob += lpSum([costs[i]*food_vars[i] for i in food_items])"
   ]
  },
  {
   "cell_type": "code",
   "execution_count": 8,
   "metadata": {},
   "outputs": [],
   "source": [
    "#constraints\n",
    "#cal\n",
    "prob += lpSum([calories[f]*food_vars[f] for f in food_items])>= 800.0 \n",
    "prob += lpSum([calories[f]*food_vars[f] for f in food_items])<= 1300.0\n",
    "#Cholesterol\n",
    "prob += lpSum([Cholesterol[f]*food_vars[f] for f in food_items])>= 30.0\n",
    "prob += lpSum([Cholesterol[f]*food_vars[f] for f in food_items])<= 240.0\n",
    "#fat               \n",
    "prob += lpSum([fat[f]*food_vars[f] for f in food_items])>= 20.0 \n",
    "prob += lpSum([fat[f]*food_vars[f] for f in food_items])<= 50.0 \n",
    "#Na               \n",
    "prob += lpSum([Sodium[f]*food_vars[f] for f in food_items])>= 800.0\n",
    "prob += lpSum([Sodium[f]*food_vars[f] for f in food_items])<= 2000.0 \n",
    "#carbs               \n",
    "prob += lpSum([carbs[f]*food_vars[f] for f in food_items])>= 130.0\n",
    "prob += lpSum([carbs[f]*food_vars[f] for f in food_items])<= 200.0 \n",
    "#Fiber\n",
    "prob += lpSum([Fiber[f]*food_vars[f] for f in food_items])>= 60.0 \n",
    "prob += lpSum([Fiber[f]*food_vars[f] for f in food_items])<= 125.0\n",
    "#Protein               \n",
    "prob += lpSum([Protein[f]*food_vars[f] for f in food_items])>= 100.0\n",
    "prob += lpSum([Protein[f]*food_vars[f] for f in food_items])<= 150.0\n",
    "#Vit_A                   \n",
    "prob += lpSum([Vit_A[f]*food_vars[f] for f in food_items])>= 1000.0\n",
    "prob += lpSum([Vit_A[f]*food_vars[f] for f in food_items])<= 10000.0\n",
    "#Vit_C               \n",
    "prob += lpSum([Vit_C[f]*food_vars[f] for f in food_items])>= 400.0\n",
    "prob += lpSum([Vit_C[f]*food_vars[f] for f in food_items])<= 5000.0\n",
    "#Ca            \n",
    "prob += lpSum([Calcium[f]*food_vars[f] for f in food_items])>= 700.0\n",
    "prob += lpSum([Calcium[f]*food_vars[f] for f in food_items])<= 1500.0\n",
    "#Fe               \n",
    "prob += lpSum([Iron[f]*food_vars[f] for f in food_items])>= 10.0             \n",
    "prob += lpSum([Iron[f]*food_vars[f] for f in food_items])<= 40.0             "
   ]
  },
  {
   "cell_type": "code",
   "execution_count": 11,
   "metadata": {},
   "outputs": [
    {
     "ename": "AttributeError",
     "evalue": "'int' object has no attribute 'actualSolve'",
     "output_type": "error",
     "traceback": [
      "\u001b[1;31m---------------------------------------------------------------------------\u001b[0m",
      "\u001b[1;31mAttributeError\u001b[0m                            Traceback (most recent call last)",
      "\u001b[1;32m<ipython-input-11-52ba134ea142>\u001b[0m in \u001b[0;36m<module>\u001b[1;34m\u001b[0m\n\u001b[0;32m      1\u001b[0m \u001b[1;31m# solve the problem\u001b[0m\u001b[1;33m\u001b[0m\u001b[1;33m\u001b[0m\u001b[1;33m\u001b[0m\u001b[0m\n\u001b[1;32m----> 2\u001b[1;33m \u001b[0mprob\u001b[0m\u001b[1;33m.\u001b[0m\u001b[0msolve\u001b[0m\u001b[1;33m(\u001b[0m\u001b[1;36m2\u001b[0m\u001b[1;33m)\u001b[0m\u001b[1;33m\u001b[0m\u001b[1;33m\u001b[0m\u001b[0m\n\u001b[0m",
      "\u001b[1;32mc:\\users\\dhjs\\appdata\\local\\programs\\python\\python38\\lib\\site-packages\\pulp\\pulp.py\u001b[0m in \u001b[0;36msolve\u001b[1;34m(self, solver, **kwargs)\u001b[0m\n\u001b[0;32m   1684\u001b[0m         \u001b[1;31m#time it\u001b[0m\u001b[1;33m\u001b[0m\u001b[1;33m\u001b[0m\u001b[1;33m\u001b[0m\u001b[0m\n\u001b[0;32m   1685\u001b[0m         \u001b[0mself\u001b[0m\u001b[1;33m.\u001b[0m\u001b[0msolutionTime\u001b[0m \u001b[1;33m=\u001b[0m \u001b[1;33m-\u001b[0m\u001b[0mclock\u001b[0m\u001b[1;33m(\u001b[0m\u001b[1;33m)\u001b[0m\u001b[1;33m\u001b[0m\u001b[1;33m\u001b[0m\u001b[0m\n\u001b[1;32m-> 1686\u001b[1;33m         \u001b[0mstatus\u001b[0m \u001b[1;33m=\u001b[0m \u001b[0msolver\u001b[0m\u001b[1;33m.\u001b[0m\u001b[0mactualSolve\u001b[0m\u001b[1;33m(\u001b[0m\u001b[0mself\u001b[0m\u001b[1;33m,\u001b[0m \u001b[1;33m**\u001b[0m\u001b[0mkwargs\u001b[0m\u001b[1;33m)\u001b[0m\u001b[1;33m\u001b[0m\u001b[1;33m\u001b[0m\u001b[0m\n\u001b[0m\u001b[0;32m   1687\u001b[0m         \u001b[0mself\u001b[0m\u001b[1;33m.\u001b[0m\u001b[0msolutionTime\u001b[0m \u001b[1;33m+=\u001b[0m \u001b[0mclock\u001b[0m\u001b[1;33m(\u001b[0m\u001b[1;33m)\u001b[0m\u001b[1;33m\u001b[0m\u001b[1;33m\u001b[0m\u001b[0m\n\u001b[0;32m   1688\u001b[0m         \u001b[0mself\u001b[0m\u001b[1;33m.\u001b[0m\u001b[0mrestoreObjective\u001b[0m\u001b[1;33m(\u001b[0m\u001b[0mwasNone\u001b[0m\u001b[1;33m,\u001b[0m \u001b[0mdummyVar\u001b[0m\u001b[1;33m)\u001b[0m\u001b[1;33m\u001b[0m\u001b[1;33m\u001b[0m\u001b[0m\n",
      "\u001b[1;31mAttributeError\u001b[0m: 'int' object has no attribute 'actualSolve'"
     ]
    }
   ],
   "source": [
    "# solve the problem\n",
    "prob.solve()"
   ]
  },
  {
   "cell_type": "code",
   "execution_count": null,
   "metadata": {},
   "outputs": [],
   "source": []
  },
  {
   "cell_type": "code",
   "execution_count": null,
   "metadata": {},
   "outputs": [],
   "source": []
  }
 ],
 "metadata": {
  "kernelspec": {
   "display_name": "Python 3",
   "language": "python",
   "name": "python3"
  },
  "language_info": {
   "codemirror_mode": {
    "name": "ipython",
    "version": 3
   },
   "file_extension": ".py",
   "mimetype": "text/x-python",
   "name": "python",
   "nbconvert_exporter": "python",
   "pygments_lexer": "ipython3",
   "version": "3.8.2"
  }
 },
 "nbformat": 4,
 "nbformat_minor": 2
}
