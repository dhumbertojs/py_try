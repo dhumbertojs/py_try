{
 "cells": [
  {
   "cell_type": "code",
   "execution_count": 1,
   "metadata": {},
   "outputs": [],
   "source": [
    "import pandas as pd\n",
    "import numpy as np"
   ]
  },
  {
   "cell_type": "code",
   "execution_count": 2,
   "metadata": {},
   "outputs": [
    {
     "data": {
      "text/plain": [
       "<bound method NDFrame.head of       Identifier             Edition Statement      Place of Publication  \\\n",
       "0            206                           NaN                    London   \n",
       "1            216                           NaN  London; Virtue & Yorston   \n",
       "2            218                           NaN                    London   \n",
       "3            472                           NaN                    London   \n",
       "4            480  A new edition, revised, etc.                    London   \n",
       "...          ...                           ...                       ...   \n",
       "8282     4158088                           NaN                    London   \n",
       "8283     4158128                           NaN                     Derby   \n",
       "8284     4159563                           NaN                    London   \n",
       "8285     4159587                           NaN       Newcastle upon Tyne   \n",
       "8286     4160339                           NaN                    London   \n",
       "\n",
       "     Date of Publication                Publisher  \\\n",
       "0            1879 [1878]         S. Tinsley & Co.   \n",
       "1                   1868             Virtue & Co.   \n",
       "2                   1869    Bradbury, Evans & Co.   \n",
       "3                   1851            James Darling   \n",
       "4                   1857     Wertheim & Macintosh   \n",
       "...                  ...                      ...   \n",
       "8282                1838                      NaN   \n",
       "8283            1831, 32          M. Mozley & Son   \n",
       "8284           [1806]-22  T. Cadell and W. Davies   \n",
       "8285                1834         Mackenzie & Dent   \n",
       "8286             1834-43                      NaN   \n",
       "\n",
       "                                                  Title  \\\n",
       "0                     Walter Forbes. [A novel.] By A. A   \n",
       "1     All for Greed. [A novel. The dedication signed...   \n",
       "2     Love the Avenger. By the author of “All for Gr...   \n",
       "3     Welsh Sketches, chiefly ecclesiastical, to the...   \n",
       "4     [The World in which I live, and my place in it...   \n",
       "...                                                 ...   \n",
       "8282  The Parochial History of Cornwall, founded on,...   \n",
       "8283  The History and Gazetteer of the County of Der...   \n",
       "8284  Magna Britannia; being a concise topographical...   \n",
       "8285  An historical, topographical and descriptive v...   \n",
       "8286  Collectanea Topographica et Genealogica. [Firs...   \n",
       "\n",
       "                                                 Author  \\\n",
       "0                                                 A. A.   \n",
       "1                                             A., A. A.   \n",
       "2                                             A., A. A.   \n",
       "3                                             A., E. S.   \n",
       "4                                             A., E. S.   \n",
       "...                                                 ...   \n",
       "8282                 GIDDY, afterwards GILBERT, Davies.   \n",
       "8283                         GLOVER, Stephen - of Derby   \n",
       "8284  LYSONS, Daniel - M.A., F.R.S., and LYSONS (Sam...   \n",
       "8285                              Mackenzie, E. (Eneas)   \n",
       "8286                                                NaN   \n",
       "\n",
       "                                           Contributors  Corporate Author  \\\n",
       "0                                       FORBES, Walter.               NaN   \n",
       "1          BLAZE DE BURY, Marie Pauline Rose - Baroness               NaN   \n",
       "2          BLAZE DE BURY, Marie Pauline Rose - Baroness               NaN   \n",
       "3                           Appleyard, Ernest Silvanus.               NaN   \n",
       "4                                   BROOME, John Henry.               NaN   \n",
       "...                                                 ...               ...   \n",
       "8282  BOASE, Henry Samuel.|HALS, William.|LYSONS, Da...               NaN   \n",
       "8283                                     NOBLE, Thomas.               NaN   \n",
       "8284           GREGSON, Matthew.|LYSONS, Samuel - F.R.S               NaN   \n",
       "8285                               ROSS, M. - of Durham               NaN   \n",
       "8286            BANDINEL, Bulkeley.|Nichols, John Gough               NaN   \n",
       "\n",
       "      Corporate Contributors Former owner  Engraver Issuance type  \\\n",
       "0                        NaN          NaN       NaN   monographic   \n",
       "1                        NaN          NaN       NaN   monographic   \n",
       "2                        NaN          NaN       NaN   monographic   \n",
       "3                        NaN          NaN       NaN   monographic   \n",
       "4                        NaN          NaN       NaN   monographic   \n",
       "...                      ...          ...       ...           ...   \n",
       "8282                     NaN          NaN       NaN   monographic   \n",
       "8283                     NaN          NaN       NaN   monographic   \n",
       "8284                     NaN          NaN       NaN   monographic   \n",
       "8285                     NaN          NaN       NaN   monographic   \n",
       "8286                     NaN          NaN       NaN    continuing   \n",
       "\n",
       "                                             Flickr URL  \\\n",
       "0     http://www.flickr.com/photos/britishlibrary/ta...   \n",
       "1     http://www.flickr.com/photos/britishlibrary/ta...   \n",
       "2     http://www.flickr.com/photos/britishlibrary/ta...   \n",
       "3     http://www.flickr.com/photos/britishlibrary/ta...   \n",
       "4     http://www.flickr.com/photos/britishlibrary/ta...   \n",
       "...                                                 ...   \n",
       "8282  http://www.flickr.com/photos/britishlibrary/ta...   \n",
       "8283  http://www.flickr.com/photos/britishlibrary/ta...   \n",
       "8284  http://www.flickr.com/photos/britishlibrary/ta...   \n",
       "8285  http://www.flickr.com/photos/britishlibrary/ta...   \n",
       "8286  http://www.flickr.com/photos/britishlibrary/ta...   \n",
       "\n",
       "                                             Shelfmarks  \n",
       "0                     British Library HMNTS 12641.b.30.  \n",
       "1                     British Library HMNTS 12626.cc.2.  \n",
       "2                     British Library HMNTS 12625.dd.1.  \n",
       "3                   British Library HMNTS 10369.bbb.15.  \n",
       "4                      British Library HMNTS 9007.d.28.  \n",
       "...                                                 ...  \n",
       "8282  British Library HMNTS|British Library HMNTS 10...  \n",
       "8283  British Library HMNTS|British Library HMNTS 10...  \n",
       "8284  British Library HMNTS|British Library HMNTS 19...  \n",
       "8285  British Library HMNTS|British Library HMNTS 10...  \n",
       "8286  British Library HMNTS|British Library HMNTS 79...  \n",
       "\n",
       "[8287 rows x 15 columns]>"
      ]
     },
     "execution_count": 2,
     "metadata": {},
     "output_type": "execute_result"
    }
   ],
   "source": [
    "df = pd.read_csv(\"datasets/BL-Flickr-Images-Book.csv\")\n",
    "df.head"
   ]
  },
  {
   "cell_type": "code",
   "execution_count": 3,
   "metadata": {},
   "outputs": [],
   "source": [
    "to_drop = [\"Edition Statement\",\n",
    "          \"Corporate Author\",\n",
    "          \"Corporate Contributors\",\n",
    "          \"Former owner\",\n",
    "          \"Engraver\",\n",
    "          \"Contributors\",\n",
    "          \"Issuance type\",\n",
    "          \"Shelfmarks\"]\n",
    "##Estos son los nombres de las columnas que se van a tirar\n",
    "df.drop(to_drop, inplace=True, axis=1)\n",
    "#This tells Pandas that we want the changes to be made directly in our object and that it should look for the values to be dropped in the columns of the object."
   ]
  },
  {
   "cell_type": "code",
   "execution_count": 4,
   "metadata": {},
   "outputs": [
    {
     "data": {
      "text/plain": [
       "<bound method NDFrame.head of       Identifier      Place of Publication Date of Publication  \\\n",
       "0            206                    London         1879 [1878]   \n",
       "1            216  London; Virtue & Yorston                1868   \n",
       "2            218                    London                1869   \n",
       "3            472                    London                1851   \n",
       "4            480                    London                1857   \n",
       "...          ...                       ...                 ...   \n",
       "8282     4158088                    London                1838   \n",
       "8283     4158128                     Derby            1831, 32   \n",
       "8284     4159563                    London           [1806]-22   \n",
       "8285     4159587       Newcastle upon Tyne                1834   \n",
       "8286     4160339                    London             1834-43   \n",
       "\n",
       "                    Publisher  \\\n",
       "0            S. Tinsley & Co.   \n",
       "1                Virtue & Co.   \n",
       "2       Bradbury, Evans & Co.   \n",
       "3               James Darling   \n",
       "4        Wertheim & Macintosh   \n",
       "...                       ...   \n",
       "8282                      NaN   \n",
       "8283          M. Mozley & Son   \n",
       "8284  T. Cadell and W. Davies   \n",
       "8285         Mackenzie & Dent   \n",
       "8286                      NaN   \n",
       "\n",
       "                                                  Title  \\\n",
       "0                     Walter Forbes. [A novel.] By A. A   \n",
       "1     All for Greed. [A novel. The dedication signed...   \n",
       "2     Love the Avenger. By the author of “All for Gr...   \n",
       "3     Welsh Sketches, chiefly ecclesiastical, to the...   \n",
       "4     [The World in which I live, and my place in it...   \n",
       "...                                                 ...   \n",
       "8282  The Parochial History of Cornwall, founded on,...   \n",
       "8283  The History and Gazetteer of the County of Der...   \n",
       "8284  Magna Britannia; being a concise topographical...   \n",
       "8285  An historical, topographical and descriptive v...   \n",
       "8286  Collectanea Topographica et Genealogica. [Firs...   \n",
       "\n",
       "                                                 Author  \\\n",
       "0                                                 A. A.   \n",
       "1                                             A., A. A.   \n",
       "2                                             A., A. A.   \n",
       "3                                             A., E. S.   \n",
       "4                                             A., E. S.   \n",
       "...                                                 ...   \n",
       "8282                 GIDDY, afterwards GILBERT, Davies.   \n",
       "8283                         GLOVER, Stephen - of Derby   \n",
       "8284  LYSONS, Daniel - M.A., F.R.S., and LYSONS (Sam...   \n",
       "8285                              Mackenzie, E. (Eneas)   \n",
       "8286                                                NaN   \n",
       "\n",
       "                                             Flickr URL  \n",
       "0     http://www.flickr.com/photos/britishlibrary/ta...  \n",
       "1     http://www.flickr.com/photos/britishlibrary/ta...  \n",
       "2     http://www.flickr.com/photos/britishlibrary/ta...  \n",
       "3     http://www.flickr.com/photos/britishlibrary/ta...  \n",
       "4     http://www.flickr.com/photos/britishlibrary/ta...  \n",
       "...                                                 ...  \n",
       "8282  http://www.flickr.com/photos/britishlibrary/ta...  \n",
       "8283  http://www.flickr.com/photos/britishlibrary/ta...  \n",
       "8284  http://www.flickr.com/photos/britishlibrary/ta...  \n",
       "8285  http://www.flickr.com/photos/britishlibrary/ta...  \n",
       "8286  http://www.flickr.com/photos/britishlibrary/ta...  \n",
       "\n",
       "[8287 rows x 7 columns]>"
      ]
     },
     "execution_count": 4,
     "metadata": {},
     "output_type": "execute_result"
    }
   ],
   "source": [
    "df.head"
   ]
  },
  {
   "cell_type": "code",
   "execution_count": 5,
   "metadata": {},
   "outputs": [
    {
     "ename": "KeyError",
     "evalue": "\"['Edition Statement' 'Corporate Author' 'Corporate Contributors'\\n 'Former owner' 'Engraver' 'Contributors' 'Issuance type' 'Shelfmarks'] not found in axis\"",
     "output_type": "error",
     "traceback": [
      "\u001b[1;31m---------------------------------------------------------------------------\u001b[0m",
      "\u001b[1;31mKeyError\u001b[0m                                  Traceback (most recent call last)",
      "\u001b[1;32m<ipython-input-5-53a53793fe16>\u001b[0m in \u001b[0;36m<module>\u001b[1;34m\u001b[0m\n\u001b[1;32m----> 1\u001b[1;33m \u001b[0mdf\u001b[0m\u001b[1;33m.\u001b[0m\u001b[0mdrop\u001b[0m\u001b[1;33m(\u001b[0m\u001b[0mcolumns\u001b[0m\u001b[1;33m=\u001b[0m\u001b[0mto_drop\u001b[0m\u001b[1;33m,\u001b[0m \u001b[0minplace\u001b[0m\u001b[1;33m=\u001b[0m\u001b[1;32mTrue\u001b[0m\u001b[1;33m)\u001b[0m\u001b[1;33m\u001b[0m\u001b[1;33m\u001b[0m\u001b[0m\n\u001b[0m\u001b[0;32m      2\u001b[0m \u001b[1;31m#Alternatively, we could also remove the columns by passing them to the columns parameter directly instead of separately specifying the labels to be removed and the axis where Pandas should look for the labels\u001b[0m\u001b[1;33m\u001b[0m\u001b[1;33m\u001b[0m\u001b[1;33m\u001b[0m\u001b[0m\n",
      "\u001b[1;32mc:\\users\\dhjs\\appdata\\local\\programs\\python\\python38\\lib\\site-packages\\pandas\\core\\frame.py\u001b[0m in \u001b[0;36mdrop\u001b[1;34m(self, labels, axis, index, columns, level, inplace, errors)\u001b[0m\n\u001b[0;32m   3988\u001b[0m                 \u001b[0mweight\u001b[0m  \u001b[1;36m1.0\u001b[0m     \u001b[1;36m0.8\u001b[0m\u001b[1;33m\u001b[0m\u001b[1;33m\u001b[0m\u001b[0m\n\u001b[0;32m   3989\u001b[0m         \"\"\"\n\u001b[1;32m-> 3990\u001b[1;33m         return super().drop(\n\u001b[0m\u001b[0;32m   3991\u001b[0m             \u001b[0mlabels\u001b[0m\u001b[1;33m=\u001b[0m\u001b[0mlabels\u001b[0m\u001b[1;33m,\u001b[0m\u001b[1;33m\u001b[0m\u001b[1;33m\u001b[0m\u001b[0m\n\u001b[0;32m   3992\u001b[0m             \u001b[0maxis\u001b[0m\u001b[1;33m=\u001b[0m\u001b[0maxis\u001b[0m\u001b[1;33m,\u001b[0m\u001b[1;33m\u001b[0m\u001b[1;33m\u001b[0m\u001b[0m\n",
      "\u001b[1;32mc:\\users\\dhjs\\appdata\\local\\programs\\python\\python38\\lib\\site-packages\\pandas\\core\\generic.py\u001b[0m in \u001b[0;36mdrop\u001b[1;34m(self, labels, axis, index, columns, level, inplace, errors)\u001b[0m\n\u001b[0;32m   3934\u001b[0m         \u001b[1;32mfor\u001b[0m \u001b[0maxis\u001b[0m\u001b[1;33m,\u001b[0m \u001b[0mlabels\u001b[0m \u001b[1;32min\u001b[0m \u001b[0maxes\u001b[0m\u001b[1;33m.\u001b[0m\u001b[0mitems\u001b[0m\u001b[1;33m(\u001b[0m\u001b[1;33m)\u001b[0m\u001b[1;33m:\u001b[0m\u001b[1;33m\u001b[0m\u001b[1;33m\u001b[0m\u001b[0m\n\u001b[0;32m   3935\u001b[0m             \u001b[1;32mif\u001b[0m \u001b[0mlabels\u001b[0m \u001b[1;32mis\u001b[0m \u001b[1;32mnot\u001b[0m \u001b[1;32mNone\u001b[0m\u001b[1;33m:\u001b[0m\u001b[1;33m\u001b[0m\u001b[1;33m\u001b[0m\u001b[0m\n\u001b[1;32m-> 3936\u001b[1;33m                 \u001b[0mobj\u001b[0m \u001b[1;33m=\u001b[0m \u001b[0mobj\u001b[0m\u001b[1;33m.\u001b[0m\u001b[0m_drop_axis\u001b[0m\u001b[1;33m(\u001b[0m\u001b[0mlabels\u001b[0m\u001b[1;33m,\u001b[0m \u001b[0maxis\u001b[0m\u001b[1;33m,\u001b[0m \u001b[0mlevel\u001b[0m\u001b[1;33m=\u001b[0m\u001b[0mlevel\u001b[0m\u001b[1;33m,\u001b[0m \u001b[0merrors\u001b[0m\u001b[1;33m=\u001b[0m\u001b[0merrors\u001b[0m\u001b[1;33m)\u001b[0m\u001b[1;33m\u001b[0m\u001b[1;33m\u001b[0m\u001b[0m\n\u001b[0m\u001b[0;32m   3937\u001b[0m \u001b[1;33m\u001b[0m\u001b[0m\n\u001b[0;32m   3938\u001b[0m         \u001b[1;32mif\u001b[0m \u001b[0minplace\u001b[0m\u001b[1;33m:\u001b[0m\u001b[1;33m\u001b[0m\u001b[1;33m\u001b[0m\u001b[0m\n",
      "\u001b[1;32mc:\\users\\dhjs\\appdata\\local\\programs\\python\\python38\\lib\\site-packages\\pandas\\core\\generic.py\u001b[0m in \u001b[0;36m_drop_axis\u001b[1;34m(self, labels, axis, level, errors)\u001b[0m\n\u001b[0;32m   3968\u001b[0m                 \u001b[0mnew_axis\u001b[0m \u001b[1;33m=\u001b[0m \u001b[0maxis\u001b[0m\u001b[1;33m.\u001b[0m\u001b[0mdrop\u001b[0m\u001b[1;33m(\u001b[0m\u001b[0mlabels\u001b[0m\u001b[1;33m,\u001b[0m \u001b[0mlevel\u001b[0m\u001b[1;33m=\u001b[0m\u001b[0mlevel\u001b[0m\u001b[1;33m,\u001b[0m \u001b[0merrors\u001b[0m\u001b[1;33m=\u001b[0m\u001b[0merrors\u001b[0m\u001b[1;33m)\u001b[0m\u001b[1;33m\u001b[0m\u001b[1;33m\u001b[0m\u001b[0m\n\u001b[0;32m   3969\u001b[0m             \u001b[1;32melse\u001b[0m\u001b[1;33m:\u001b[0m\u001b[1;33m\u001b[0m\u001b[1;33m\u001b[0m\u001b[0m\n\u001b[1;32m-> 3970\u001b[1;33m                 \u001b[0mnew_axis\u001b[0m \u001b[1;33m=\u001b[0m \u001b[0maxis\u001b[0m\u001b[1;33m.\u001b[0m\u001b[0mdrop\u001b[0m\u001b[1;33m(\u001b[0m\u001b[0mlabels\u001b[0m\u001b[1;33m,\u001b[0m \u001b[0merrors\u001b[0m\u001b[1;33m=\u001b[0m\u001b[0merrors\u001b[0m\u001b[1;33m)\u001b[0m\u001b[1;33m\u001b[0m\u001b[1;33m\u001b[0m\u001b[0m\n\u001b[0m\u001b[0;32m   3971\u001b[0m             \u001b[0mresult\u001b[0m \u001b[1;33m=\u001b[0m \u001b[0mself\u001b[0m\u001b[1;33m.\u001b[0m\u001b[0mreindex\u001b[0m\u001b[1;33m(\u001b[0m\u001b[1;33m**\u001b[0m\u001b[1;33m{\u001b[0m\u001b[0maxis_name\u001b[0m\u001b[1;33m:\u001b[0m \u001b[0mnew_axis\u001b[0m\u001b[1;33m}\u001b[0m\u001b[1;33m)\u001b[0m\u001b[1;33m\u001b[0m\u001b[1;33m\u001b[0m\u001b[0m\n\u001b[0;32m   3972\u001b[0m \u001b[1;33m\u001b[0m\u001b[0m\n",
      "\u001b[1;32mc:\\users\\dhjs\\appdata\\local\\programs\\python\\python38\\lib\\site-packages\\pandas\\core\\indexes\\base.py\u001b[0m in \u001b[0;36mdrop\u001b[1;34m(self, labels, errors)\u001b[0m\n\u001b[0;32m   5015\u001b[0m         \u001b[1;32mif\u001b[0m \u001b[0mmask\u001b[0m\u001b[1;33m.\u001b[0m\u001b[0many\u001b[0m\u001b[1;33m(\u001b[0m\u001b[1;33m)\u001b[0m\u001b[1;33m:\u001b[0m\u001b[1;33m\u001b[0m\u001b[1;33m\u001b[0m\u001b[0m\n\u001b[0;32m   5016\u001b[0m             \u001b[1;32mif\u001b[0m \u001b[0merrors\u001b[0m \u001b[1;33m!=\u001b[0m \u001b[1;34m\"ignore\"\u001b[0m\u001b[1;33m:\u001b[0m\u001b[1;33m\u001b[0m\u001b[1;33m\u001b[0m\u001b[0m\n\u001b[1;32m-> 5017\u001b[1;33m                 \u001b[1;32mraise\u001b[0m \u001b[0mKeyError\u001b[0m\u001b[1;33m(\u001b[0m\u001b[1;34mf\"{labels[mask]} not found in axis\"\u001b[0m\u001b[1;33m)\u001b[0m\u001b[1;33m\u001b[0m\u001b[1;33m\u001b[0m\u001b[0m\n\u001b[0m\u001b[0;32m   5018\u001b[0m             \u001b[0mindexer\u001b[0m \u001b[1;33m=\u001b[0m \u001b[0mindexer\u001b[0m\u001b[1;33m[\u001b[0m\u001b[1;33m~\u001b[0m\u001b[0mmask\u001b[0m\u001b[1;33m]\u001b[0m\u001b[1;33m\u001b[0m\u001b[1;33m\u001b[0m\u001b[0m\n\u001b[0;32m   5019\u001b[0m         \u001b[1;32mreturn\u001b[0m \u001b[0mself\u001b[0m\u001b[1;33m.\u001b[0m\u001b[0mdelete\u001b[0m\u001b[1;33m(\u001b[0m\u001b[0mindexer\u001b[0m\u001b[1;33m)\u001b[0m\u001b[1;33m\u001b[0m\u001b[1;33m\u001b[0m\u001b[0m\n",
      "\u001b[1;31mKeyError\u001b[0m: \"['Edition Statement' 'Corporate Author' 'Corporate Contributors'\\n 'Former owner' 'Engraver' 'Contributors' 'Issuance type' 'Shelfmarks'] not found in axis\""
     ]
    }
   ],
   "source": [
    "#df.drop(columns=to_drop, inplace=True)\n",
    "#Alternatively, we could also remove the columns by passing them to the columns parameter directly instead of separately specifying the labels to be removed and the axis where Pandas should look for the labels"
   ]
  },
  {
   "cell_type": "code",
   "execution_count": null,
   "metadata": {},
   "outputs": [],
   "source": [
    "https://realpython.com/python-data-cleaning-numpy-pandas/"
   ]
  }
 ],
 "metadata": {
  "kernelspec": {
   "display_name": "Python 3",
   "language": "python",
   "name": "python3"
  },
  "language_info": {
   "codemirror_mode": {
    "name": "ipython",
    "version": 3
   },
   "file_extension": ".py",
   "mimetype": "text/x-python",
   "name": "python",
   "nbconvert_exporter": "python",
   "pygments_lexer": "ipython3",
   "version": "3.8.2"
  }
 },
 "nbformat": 4,
 "nbformat_minor": 4
}
